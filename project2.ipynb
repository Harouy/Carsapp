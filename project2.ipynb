{
 "cells": [
  {
   "cell_type": "code",
   "execution_count": 1,
   "metadata": {},
   "outputs": [],
   "source": [
    "import numpy as np\n",
    "import pandas as pd\n",
    "import matplotlib.pyplot as plt\n",
    "\n",
    "from sklearn.preprocessing import StandardScaler\n",
    "from sklearn.model_selection import train_test_split\n",
    "from sklearn.metrics import recall_score\n",
    "from xgboost import XGBRFRegressor\n",
    "from sklearn.preprocessing import StandardScaler\n",
    "import seaborn as sns\n",
    "from sklearn.metrics import mean_absolute_error, mean_squared_error\n",
    "from sklearn.metrics import r2_score\n"
   ]
  },
  {
   "cell_type": "code",
   "execution_count": 2,
   "metadata": {},
   "outputs": [
    {
     "data": {
      "text/html": [
       "<div>\n",
       "<style scoped>\n",
       "    .dataframe tbody tr th:only-of-type {\n",
       "        vertical-align: middle;\n",
       "    }\n",
       "\n",
       "    .dataframe tbody tr th {\n",
       "        vertical-align: top;\n",
       "    }\n",
       "\n",
       "    .dataframe thead th {\n",
       "        text-align: right;\n",
       "    }\n",
       "</style>\n",
       "<table border=\"1\" class=\"dataframe\">\n",
       "  <thead>\n",
       "    <tr style=\"text-align: right;\">\n",
       "      <th></th>\n",
       "      <th>Unnamed: 0</th>\n",
       "      <th>price</th>\n",
       "      <th>brand</th>\n",
       "      <th>model</th>\n",
       "      <th>year</th>\n",
       "      <th>title_status</th>\n",
       "      <th>mileage</th>\n",
       "      <th>color</th>\n",
       "      <th>vin</th>\n",
       "      <th>lot</th>\n",
       "      <th>state</th>\n",
       "      <th>country</th>\n",
       "      <th>condition</th>\n",
       "    </tr>\n",
       "  </thead>\n",
       "  <tbody>\n",
       "    <tr>\n",
       "      <th>0</th>\n",
       "      <td>0</td>\n",
       "      <td>6300</td>\n",
       "      <td>toyota</td>\n",
       "      <td>cruiser</td>\n",
       "      <td>2008</td>\n",
       "      <td>clean vehicle</td>\n",
       "      <td>274117.0</td>\n",
       "      <td>black</td>\n",
       "      <td>jtezu11f88k007763</td>\n",
       "      <td>159348797</td>\n",
       "      <td>new jersey</td>\n",
       "      <td>usa</td>\n",
       "      <td>10 days left</td>\n",
       "    </tr>\n",
       "    <tr>\n",
       "      <th>1</th>\n",
       "      <td>1</td>\n",
       "      <td>2899</td>\n",
       "      <td>ford</td>\n",
       "      <td>se</td>\n",
       "      <td>2011</td>\n",
       "      <td>clean vehicle</td>\n",
       "      <td>190552.0</td>\n",
       "      <td>silver</td>\n",
       "      <td>2fmdk3gc4bbb02217</td>\n",
       "      <td>166951262</td>\n",
       "      <td>tennessee</td>\n",
       "      <td>usa</td>\n",
       "      <td>6 days left</td>\n",
       "    </tr>\n",
       "    <tr>\n",
       "      <th>2</th>\n",
       "      <td>2</td>\n",
       "      <td>5350</td>\n",
       "      <td>dodge</td>\n",
       "      <td>mpv</td>\n",
       "      <td>2018</td>\n",
       "      <td>clean vehicle</td>\n",
       "      <td>39590.0</td>\n",
       "      <td>silver</td>\n",
       "      <td>3c4pdcgg5jt346413</td>\n",
       "      <td>167655728</td>\n",
       "      <td>georgia</td>\n",
       "      <td>usa</td>\n",
       "      <td>2 days left</td>\n",
       "    </tr>\n",
       "    <tr>\n",
       "      <th>3</th>\n",
       "      <td>3</td>\n",
       "      <td>25000</td>\n",
       "      <td>ford</td>\n",
       "      <td>door</td>\n",
       "      <td>2014</td>\n",
       "      <td>clean vehicle</td>\n",
       "      <td>64146.0</td>\n",
       "      <td>blue</td>\n",
       "      <td>1ftfw1et4efc23745</td>\n",
       "      <td>167753855</td>\n",
       "      <td>virginia</td>\n",
       "      <td>usa</td>\n",
       "      <td>22 hours left</td>\n",
       "    </tr>\n",
       "    <tr>\n",
       "      <th>4</th>\n",
       "      <td>4</td>\n",
       "      <td>27700</td>\n",
       "      <td>chevrolet</td>\n",
       "      <td>1500</td>\n",
       "      <td>2018</td>\n",
       "      <td>clean vehicle</td>\n",
       "      <td>6654.0</td>\n",
       "      <td>red</td>\n",
       "      <td>3gcpcrec2jg473991</td>\n",
       "      <td>167763266</td>\n",
       "      <td>florida</td>\n",
       "      <td>usa</td>\n",
       "      <td>22 hours left</td>\n",
       "    </tr>\n",
       "  </tbody>\n",
       "</table>\n",
       "</div>"
      ],
      "text/plain": [
       "   Unnamed: 0  price      brand    model  year   title_status   mileage  \\\n",
       "0           0   6300     toyota  cruiser  2008  clean vehicle  274117.0   \n",
       "1           1   2899       ford       se  2011  clean vehicle  190552.0   \n",
       "2           2   5350      dodge      mpv  2018  clean vehicle   39590.0   \n",
       "3           3  25000       ford     door  2014  clean vehicle   64146.0   \n",
       "4           4  27700  chevrolet     1500  2018  clean vehicle    6654.0   \n",
       "\n",
       "    color                  vin        lot       state country      condition  \n",
       "0   black    jtezu11f88k007763  159348797  new jersey     usa   10 days left  \n",
       "1  silver    2fmdk3gc4bbb02217  166951262   tennessee     usa    6 days left  \n",
       "2  silver    3c4pdcgg5jt346413  167655728     georgia     usa    2 days left  \n",
       "3    blue    1ftfw1et4efc23745  167753855    virginia     usa  22 hours left  \n",
       "4     red    3gcpcrec2jg473991  167763266     florida     usa  22 hours left  "
      ]
     },
     "execution_count": 2,
     "metadata": {},
     "output_type": "execute_result"
    }
   ],
   "source": [
    "test_data = pd.read_csv(\"C:/Users/P15S 1/Downloads/archive (4)/USA_cars_datasets.csv\")\n",
    "test_data.head()"
   ]
  },
  {
   "cell_type": "code",
   "execution_count": 3,
   "metadata": {},
   "outputs": [
    {
     "name": "stdout",
     "output_type": "stream",
     "text": [
      "(2499, 208)\n",
      "0.6494396426363538\n"
     ]
    }
   ],
   "source": [
    "features=['brand','model','year','title_status','mileage','color']\n",
    "X=pd.get_dummies(test_data[features])\n",
    "scaler=StandardScaler()\n",
    "\n",
    "from sklearn.preprocessing import PolynomialFeatures\n",
    "print(X.shape)\n",
    "Y=test_data[\"price\"]\n",
    "mean_price = Y[Y != 0].mean()\n",
    "Y = Y.replace(0, mean_price)\n",
    "X_train, X_dat, y_train, y_dat = train_test_split(X,Y , test_size=0.4, random_state=1)\n",
    "X_cv,X_test,y_cv,y_test=train_test_split(X_dat,y_dat,test_size=0.4,random_state=1)\n",
    "model=XGBRFRegressor(n_estimators=600,max_depth=20,subsample=0.5,colsample_bytree=0.9)\n",
    "model.fit(X_train,y_train)\n",
    "y_pred=model.predict(X_cv)\n",
    "r_squared = r2_score(y_cv, y_pred)\n",
    "print(r_squared)\n",
    "\n"
   ]
  },
  {
   "cell_type": "code",
   "execution_count": 5,
   "metadata": {},
   "outputs": [
    {
     "name": "stdout",
     "output_type": "stream",
     "text": [
      "0.5721032859208397\n"
     ]
    }
   ],
   "source": [
    "y_predtest=model.predict(X_test)\n",
    "r_squared2 = r2_score(y_test, y_predtest)\n",
    "print(r_squared2)\n"
   ]
  },
  {
   "cell_type": "code",
   "execution_count": 6,
   "metadata": {},
   "outputs": [
    {
     "name": "stdout",
     "output_type": "stream",
     "text": [
      " * Serving Flask app '__main__'\n",
      " * Debug mode: off\n"
     ]
    },
    {
     "name": "stderr",
     "output_type": "stream",
     "text": [
      "WARNING: This is a development server. Do not use it in a production deployment. Use a production WSGI server instead.\n",
      " * Running on http://127.0.0.1:5000\n",
      "Press CTRL+C to quit\n",
      "127.0.0.1 - - [07/Sep/2023 16:00:02] \"OPTIONS /predict HTTP/1.1\" 200 -\n",
      "127.0.0.1 - - [07/Sep/2023 16:00:02] \"POST /predict HTTP/1.1\" 200 -\n"
     ]
    },
    {
     "name": "stdout",
     "output_type": "stream",
     "text": [
      "Received data: {'brand': 'toyota', 'mileage': '28000', 'model': 'cruizer', 'year': '2016', 'color': 'blue', 'title_status': 'clean vehicle'}\n",
      "[17221.506]\n"
     ]
    },
    {
     "name": "stderr",
     "output_type": "stream",
     "text": [
      "127.0.0.1 - - [07/Sep/2023 17:43:16] \"OPTIONS /predict HTTP/1.1\" 200 -\n",
      "127.0.0.1 - - [07/Sep/2023 17:43:16] \"POST /predict HTTP/1.1\" 200 -\n"
     ]
    },
    {
     "name": "stdout",
     "output_type": "stream",
     "text": [
      "Received data: {'brand': 'toyota', 'mileage': '2800', 'model': 'cruize', 'year': '2016', 'color': 'red', 'title_status': 'clean vehicle'}\n",
      "[18457.176]\n"
     ]
    },
    {
     "name": "stderr",
     "output_type": "stream",
     "text": [
      "127.0.0.1 - - [07/Sep/2023 17:45:26] \"OPTIONS /predict HTTP/1.1\" 200 -\n",
      "127.0.0.1 - - [07/Sep/2023 17:45:26] \"POST /predict HTTP/1.1\" 200 -\n"
     ]
    },
    {
     "name": "stdout",
     "output_type": "stream",
     "text": [
      "Received data: {'brand': 'toyota', 'mileage': '2800', 'model': 'cruizer', 'year': '2016', 'color': 'red', 'title_status': 'clean vehicle'}\n",
      "[18457.176]\n"
     ]
    },
    {
     "name": "stderr",
     "output_type": "stream",
     "text": [
      "127.0.0.1 - - [07/Sep/2023 17:47:30] \"OPTIONS /predict HTTP/1.1\" 200 -\n",
      "127.0.0.1 - - [07/Sep/2023 17:47:31] \"POST /predict HTTP/1.1\" 200 -\n"
     ]
    },
    {
     "name": "stdout",
     "output_type": "stream",
     "text": [
      "Received data: {'brand': 'toyota', 'mileage': '3000', 'model': 'cruizer', 'year': '2019', 'color': 'blue', 'title_status': 'clean vehicle'}\n",
      "[17221.506]\n"
     ]
    },
    {
     "name": "stderr",
     "output_type": "stream",
     "text": [
      "127.0.0.1 - - [07/Sep/2023 18:36:57] \"OPTIONS /predict HTTP/1.1\" 200 -\n",
      "127.0.0.1 - - [07/Sep/2023 18:36:57] \"POST /predict HTTP/1.1\" 200 -\n"
     ]
    },
    {
     "name": "stdout",
     "output_type": "stream",
     "text": [
      "Received data: {'brand': 'toyota', 'mileage': '2800', 'model': 'cruize', 'year': '2018', 'color': 'purple', 'title_status': 'clean vehicle'}\n",
      "[16875.432]\n"
     ]
    },
    {
     "name": "stderr",
     "output_type": "stream",
     "text": [
      "127.0.0.1 - - [07/Sep/2023 18:51:26] \"OPTIONS /predict HTTP/1.1\" 200 -\n",
      "127.0.0.1 - - [07/Sep/2023 18:51:26] \"POST /predict HTTP/1.1\" 200 -\n"
     ]
    },
    {
     "name": "stdout",
     "output_type": "stream",
     "text": [
      "Received data: {'brand': 'toyota', 'mileage': '3000', 'model': 'cruize', 'year': '2017', 'color': 'blue', 'title_status': 'clean vehicle'}\n",
      "[17221.506]\n"
     ]
    }
   ],
   "source": [
    "from flask import Flask, request, jsonify\n",
    "import pandas as pd\n",
    "import numpy as np\n",
    "from flask_cors import CORS\n",
    "app = Flask(__name__)\n",
    "CORS(app)\n",
    "\n",
    "@app.route('/predict', methods=['POST'])\n",
    "def predict():\n",
    "    try:\n",
    "        data = request.get_json()\n",
    "        features = ['brand', 'model', 'year', 'title_status', 'mileage', 'color']\n",
    "        input_data = pd.DataFrame([data], columns=features)\n",
    "        print(\"Received data:\", data)  # Add this line to check the received data\n",
    "        # Rest of your code...\n",
    "\n",
    "    \n",
    "\n",
    "        # Preprocess the input data to match the training data\n",
    "        input_data_encoded = pd.get_dummies(input_data)\n",
    "        input_data_encoded = input_data_encoded.reindex(columns=X.columns, fill_value=0)\n",
    "        \n",
    "        # Ensure the same column order as in the training data\n",
    "     \n",
    "\n",
    "        # Scale the input data using the same StandardScaler\n",
    "     \n",
    "\n",
    "        # Make predictions\n",
    "        prediction = model.predict(input_data_encoded)\n",
    "        print(prediction)\n",
    "    \n",
    "        return jsonify({'prediction': prediction.tolist()})\n",
    "    except Exception as e:\n",
    "        return jsonify({'error': str(e)})\n",
    "\n",
    "@app.route('/check', methods=['GET'])\n",
    "def check_server():\n",
    "    return 'Server is running and responding.'\n",
    "\n",
    "if __name__ == '__main__':\n",
    "    app.run()\n",
    " \n",
    "\n"
   ]
  },
  {
   "cell_type": "code",
   "execution_count": 5,
   "metadata": {},
   "outputs": [],
   "source": [
    "def predict2(data):\n",
    "    try:\n",
    "        \n",
    "        features = ['brand', 'model', 'year', 'title_status', 'mileage', 'condition', 'color']\n",
    "        input_data = pd.DataFrame([data], columns=features)\n",
    "        print(\"Received data:\", data)  # Add this line to check the received data\n",
    "        # Rest of your code...\n",
    "\n",
    "    \n",
    "\n",
    "        # Preprocess the input data to match the training data\n",
    "        input_data_encoded = pd.get_dummies(input_data)\n",
    "        input_data_encoded = input_data_encoded.reindex(columns=X.columns, fill_value=0)\n",
    "\n",
    "        \n",
    "\n",
    "        # Make predictions\n",
    "        prediction = model.predict(input_data_encoded)\n",
    "      \n",
    "    \n",
    "        return {'prediction': prediction.tolist()}\n",
    "    except Exception as e:\n",
    "         return {'error': str(e)}"
   ]
  },
  {
   "cell_type": "code",
   "execution_count": 9,
   "metadata": {},
   "outputs": [],
   "source": [
    "data= {\n",
    "    \"brand\": \"ford\",\n",
    "    \"model\": \"se\",\n",
    "    \"year\": 2018,\n",
    "    \"title_status\": \"clean vehicle\",\n",
    "    \"mileage\": 390.0,\n",
    "    \"condition\": \"2 days left\",\n",
    "    \"color\": \"silver\"\n",
    "},\n",
    "data2= {\n",
    "    \"brand\": \"toyota\",\n",
    "    \"model\": \"cruiser\",\n",
    "    \"year\": 2001,\n",
    "    \"title_status\": \"clean vehicle\",\n",
    "    \"mileage\": 390.0,\n",
    "    \"condition\": \"10 days left\",\n",
    "    \"color\": \"silver\"\n",
    "}"
   ]
  },
  {
   "cell_type": "code",
   "execution_count": 12,
   "metadata": {},
   "outputs": [
    {
     "name": "stdout",
     "output_type": "stream",
     "text": [
      "{'prediction': [28413.326171875]}\n"
     ]
    }
   ],
   "source": [
    "def predict3(data):\n",
    "    try:\n",
    "        features = ['brand', 'model', 'year', 'title_status', 'mileage', 'color']\n",
    "        \n",
    "        # Create a DataFrame from the input data\n",
    "        input_data = pd.DataFrame([data], columns=features)\n",
    "        \n",
    "        # Preprocess the input data to match the training data\n",
    "        input_data_encoded = pd.get_dummies(input_data)\n",
    "        \n",
    "        # Ensure the same column order as in the training data\n",
    "        input_data_encoded = input_data_encoded.reindex(columns=X.columns, fill_value=0)\n",
    "        \n",
    "        # Scale the input data using the same StandardScaler\n",
    "        \n",
    "        \n",
    "        # Make predictions\n",
    "        prediction = model.predict(input_data_encoded)\n",
    "        \n",
    "        return {'prediction': prediction.tolist()}\n",
    "    except Exception as e:\n",
    "        return {'error': str(e)}\n",
    "\n",
    "# Test your function with the provided data\n",
    "data = {\n",
    "    \"brand\": \"ford\",\n",
    "    \"model\": \"se\",\n",
    "    \"year\": 2010,\n",
    "    \"title_status\": \"clean vehicle\",\n",
    "    \"mileage\": 390.0,\n",
    "    \"color\": \"red\"\n",
    "}\n",
    "\n",
    "result = predict3(data)\n",
    "print(result)\n"
   ]
  },
  {
   "cell_type": "code",
   "execution_count": 14,
   "metadata": {},
   "outputs": [
    {
     "data": {
      "text/plain": [
       "{'error': '7 columns passed, passed data had 1 columns'}"
      ]
     },
     "execution_count": 14,
     "metadata": {},
     "output_type": "execute_result"
    }
   ],
   "source": [
    "predict3(data)"
   ]
  }
 ],
 "metadata": {
  "kernelspec": {
   "display_name": "base",
   "language": "python",
   "name": "python3"
  },
  "language_info": {
   "codemirror_mode": {
    "name": "ipython",
    "version": 3
   },
   "file_extension": ".py",
   "mimetype": "text/x-python",
   "name": "python",
   "nbconvert_exporter": "python",
   "pygments_lexer": "ipython3",
   "version": "3.10.9"
  },
  "orig_nbformat": 4
 },
 "nbformat": 4,
 "nbformat_minor": 2
}
